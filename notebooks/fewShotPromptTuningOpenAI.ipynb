{
  "nbformat": 4,
  "nbformat_minor": 0,
  "metadata": {
    "colab": {
      "provenance": [],
      "gpuType": "T4"
    },
    "kernelspec": {
      "name": "python3",
      "display_name": "Python 3"
    },
    "language_info": {
      "name": "python"
    },
    "widgets": {
      "application/vnd.jupyter.widget-state+json": {
        "08a165fc6649402ca288d0b3dfd1bcb8": {
          "model_module": "@jupyter-widgets/controls",
          "model_name": "HBoxModel",
          "model_module_version": "1.5.0",
          "state": {
            "_dom_classes": [],
            "_model_module": "@jupyter-widgets/controls",
            "_model_module_version": "1.5.0",
            "_model_name": "HBoxModel",
            "_view_count": null,
            "_view_module": "@jupyter-widgets/controls",
            "_view_module_version": "1.5.0",
            "_view_name": "HBoxView",
            "box_style": "",
            "children": [
              "IPY_MODEL_452fec2f51804ff59deb9cf4b6d4f81b",
              "IPY_MODEL_fdc9fb9d89f14a97be457a4c21532994",
              "IPY_MODEL_506cc4584a8a4a809e439884643dcac4"
            ],
            "layout": "IPY_MODEL_77674dc621464b73b359dab1fa8a14b0"
          }
        },
        "452fec2f51804ff59deb9cf4b6d4f81b": {
          "model_module": "@jupyter-widgets/controls",
          "model_name": "HTMLModel",
          "model_module_version": "1.5.0",
          "state": {
            "_dom_classes": [],
            "_model_module": "@jupyter-widgets/controls",
            "_model_module_version": "1.5.0",
            "_model_name": "HTMLModel",
            "_view_count": null,
            "_view_module": "@jupyter-widgets/controls",
            "_view_module_version": "1.5.0",
            "_view_name": "HTMLView",
            "description": "",
            "description_tooltip": null,
            "layout": "IPY_MODEL_f7ad91d696554eafa3f9084f8a447472",
            "placeholder": "​",
            "style": "IPY_MODEL_3c37265391264d3e86be2a6ab36da433",
            "value": "Computing checksums: 100%"
          }
        },
        "fdc9fb9d89f14a97be457a4c21532994": {
          "model_module": "@jupyter-widgets/controls",
          "model_name": "FloatProgressModel",
          "model_module_version": "1.5.0",
          "state": {
            "_dom_classes": [],
            "_model_module": "@jupyter-widgets/controls",
            "_model_module_version": "1.5.0",
            "_model_name": "FloatProgressModel",
            "_view_count": null,
            "_view_module": "@jupyter-widgets/controls",
            "_view_module_version": "1.5.0",
            "_view_name": "ProgressView",
            "bar_style": "success",
            "description": "",
            "description_tooltip": null,
            "layout": "IPY_MODEL_53567c1a269c420da77987b1dad58a74",
            "max": 1,
            "min": 0,
            "orientation": "horizontal",
            "style": "IPY_MODEL_d6aec0dc73bb468ea9fc28aaeec64852",
            "value": 1
          }
        },
        "506cc4584a8a4a809e439884643dcac4": {
          "model_module": "@jupyter-widgets/controls",
          "model_name": "HTMLModel",
          "model_module_version": "1.5.0",
          "state": {
            "_dom_classes": [],
            "_model_module": "@jupyter-widgets/controls",
            "_model_module_version": "1.5.0",
            "_model_name": "HTMLModel",
            "_view_count": null,
            "_view_module": "@jupyter-widgets/controls",
            "_view_module_version": "1.5.0",
            "_view_name": "HTMLView",
            "description": "",
            "description_tooltip": null,
            "layout": "IPY_MODEL_726049c2c5a04ed782b5c5b03f7d0493",
            "placeholder": "​",
            "style": "IPY_MODEL_099dd3ebd73b4aa2911db15ce1c6909f",
            "value": " 1/1 [00:26&lt;00:00, 26.90s/it]"
          }
        },
        "77674dc621464b73b359dab1fa8a14b0": {
          "model_module": "@jupyter-widgets/base",
          "model_name": "LayoutModel",
          "model_module_version": "1.2.0",
          "state": {
            "_model_module": "@jupyter-widgets/base",
            "_model_module_version": "1.2.0",
            "_model_name": "LayoutModel",
            "_view_count": null,
            "_view_module": "@jupyter-widgets/base",
            "_view_module_version": "1.2.0",
            "_view_name": "LayoutView",
            "align_content": null,
            "align_items": null,
            "align_self": null,
            "border": null,
            "bottom": null,
            "display": null,
            "flex": null,
            "flex_flow": null,
            "grid_area": null,
            "grid_auto_columns": null,
            "grid_auto_flow": null,
            "grid_auto_rows": null,
            "grid_column": null,
            "grid_gap": null,
            "grid_row": null,
            "grid_template_areas": null,
            "grid_template_columns": null,
            "grid_template_rows": null,
            "height": null,
            "justify_content": null,
            "justify_items": null,
            "left": null,
            "margin": null,
            "max_height": null,
            "max_width": null,
            "min_height": null,
            "min_width": null,
            "object_fit": null,
            "object_position": null,
            "order": null,
            "overflow": null,
            "overflow_x": null,
            "overflow_y": null,
            "padding": null,
            "right": null,
            "top": null,
            "visibility": null,
            "width": null
          }
        },
        "f7ad91d696554eafa3f9084f8a447472": {
          "model_module": "@jupyter-widgets/base",
          "model_name": "LayoutModel",
          "model_module_version": "1.2.0",
          "state": {
            "_model_module": "@jupyter-widgets/base",
            "_model_module_version": "1.2.0",
            "_model_name": "LayoutModel",
            "_view_count": null,
            "_view_module": "@jupyter-widgets/base",
            "_view_module_version": "1.2.0",
            "_view_name": "LayoutView",
            "align_content": null,
            "align_items": null,
            "align_self": null,
            "border": null,
            "bottom": null,
            "display": null,
            "flex": null,
            "flex_flow": null,
            "grid_area": null,
            "grid_auto_columns": null,
            "grid_auto_flow": null,
            "grid_auto_rows": null,
            "grid_column": null,
            "grid_gap": null,
            "grid_row": null,
            "grid_template_areas": null,
            "grid_template_columns": null,
            "grid_template_rows": null,
            "height": null,
            "justify_content": null,
            "justify_items": null,
            "left": null,
            "margin": null,
            "max_height": null,
            "max_width": null,
            "min_height": null,
            "min_width": null,
            "object_fit": null,
            "object_position": null,
            "order": null,
            "overflow": null,
            "overflow_x": null,
            "overflow_y": null,
            "padding": null,
            "right": null,
            "top": null,
            "visibility": null,
            "width": null
          }
        },
        "3c37265391264d3e86be2a6ab36da433": {
          "model_module": "@jupyter-widgets/controls",
          "model_name": "DescriptionStyleModel",
          "model_module_version": "1.5.0",
          "state": {
            "_model_module": "@jupyter-widgets/controls",
            "_model_module_version": "1.5.0",
            "_model_name": "DescriptionStyleModel",
            "_view_count": null,
            "_view_module": "@jupyter-widgets/base",
            "_view_module_version": "1.2.0",
            "_view_name": "StyleView",
            "description_width": ""
          }
        },
        "53567c1a269c420da77987b1dad58a74": {
          "model_module": "@jupyter-widgets/base",
          "model_name": "LayoutModel",
          "model_module_version": "1.2.0",
          "state": {
            "_model_module": "@jupyter-widgets/base",
            "_model_module_version": "1.2.0",
            "_model_name": "LayoutModel",
            "_view_count": null,
            "_view_module": "@jupyter-widgets/base",
            "_view_module_version": "1.2.0",
            "_view_name": "LayoutView",
            "align_content": null,
            "align_items": null,
            "align_self": null,
            "border": null,
            "bottom": null,
            "display": null,
            "flex": null,
            "flex_flow": null,
            "grid_area": null,
            "grid_auto_columns": null,
            "grid_auto_flow": null,
            "grid_auto_rows": null,
            "grid_column": null,
            "grid_gap": null,
            "grid_row": null,
            "grid_template_areas": null,
            "grid_template_columns": null,
            "grid_template_rows": null,
            "height": null,
            "justify_content": null,
            "justify_items": null,
            "left": null,
            "margin": null,
            "max_height": null,
            "max_width": null,
            "min_height": null,
            "min_width": null,
            "object_fit": null,
            "object_position": null,
            "order": null,
            "overflow": null,
            "overflow_x": null,
            "overflow_y": null,
            "padding": null,
            "right": null,
            "top": null,
            "visibility": null,
            "width": null
          }
        },
        "d6aec0dc73bb468ea9fc28aaeec64852": {
          "model_module": "@jupyter-widgets/controls",
          "model_name": "ProgressStyleModel",
          "model_module_version": "1.5.0",
          "state": {
            "_model_module": "@jupyter-widgets/controls",
            "_model_module_version": "1.5.0",
            "_model_name": "ProgressStyleModel",
            "_view_count": null,
            "_view_module": "@jupyter-widgets/base",
            "_view_module_version": "1.2.0",
            "_view_name": "StyleView",
            "bar_color": null,
            "description_width": ""
          }
        },
        "726049c2c5a04ed782b5c5b03f7d0493": {
          "model_module": "@jupyter-widgets/base",
          "model_name": "LayoutModel",
          "model_module_version": "1.2.0",
          "state": {
            "_model_module": "@jupyter-widgets/base",
            "_model_module_version": "1.2.0",
            "_model_name": "LayoutModel",
            "_view_count": null,
            "_view_module": "@jupyter-widgets/base",
            "_view_module_version": "1.2.0",
            "_view_name": "LayoutView",
            "align_content": null,
            "align_items": null,
            "align_self": null,
            "border": null,
            "bottom": null,
            "display": null,
            "flex": null,
            "flex_flow": null,
            "grid_area": null,
            "grid_auto_columns": null,
            "grid_auto_flow": null,
            "grid_auto_rows": null,
            "grid_column": null,
            "grid_gap": null,
            "grid_row": null,
            "grid_template_areas": null,
            "grid_template_columns": null,
            "grid_template_rows": null,
            "height": null,
            "justify_content": null,
            "justify_items": null,
            "left": null,
            "margin": null,
            "max_height": null,
            "max_width": null,
            "min_height": null,
            "min_width": null,
            "object_fit": null,
            "object_position": null,
            "order": null,
            "overflow": null,
            "overflow_x": null,
            "overflow_y": null,
            "padding": null,
            "right": null,
            "top": null,
            "visibility": null,
            "width": null
          }
        },
        "099dd3ebd73b4aa2911db15ce1c6909f": {
          "model_module": "@jupyter-widgets/controls",
          "model_name": "DescriptionStyleModel",
          "model_module_version": "1.5.0",
          "state": {
            "_model_module": "@jupyter-widgets/controls",
            "_model_module_version": "1.5.0",
            "_model_name": "DescriptionStyleModel",
            "_view_count": null,
            "_view_module": "@jupyter-widgets/base",
            "_view_module_version": "1.2.0",
            "_view_name": "StyleView",
            "description_width": ""
          }
        }
      }
    },
    "accelerator": "GPU"
  },
  "cells": [
    {
      "cell_type": "code",
      "execution_count": null,
      "metadata": {
        "id": "gY6laZqpnGvt"
      },
      "outputs": [],
      "source": [
        "pip install --upgrade openai transformers datasets==2.10.0 evaluate"
      ]
    },
    {
      "cell_type": "code",
      "source": [
        "from datasets import load_dataset\n",
        "import openai\n",
        "import os\n",
        "import pandas as pd\n",
        "import evaluate"
      ],
      "metadata": {
        "id": "W2EyVYnxnXvV"
      },
      "execution_count": null,
      "outputs": []
    },
    {
      "cell_type": "code",
      "source": [
        "openai.api_key = 'YOUR-API-KEY'\n",
        "dataset = load_dataset(\"s-nlp/paradetox\") # parallel gold examples"
      ],
      "metadata": {
        "id": "1ST7ZpOE6EZ2"
      },
      "execution_count": null,
      "outputs": []
    },
    {
      "cell_type": "code",
      "source": [
        "def few_shot(df, given_text):\n",
        "  completion = client.chat.completions.create(\n",
        "    model=\"gpt-4o-mini\",\n",
        "    seed=42,\n",
        "    temperature=0.5,\n",
        "    max_tokens=250,\n",
        "    messages=[\n",
        "      {\"role\": \"system\", \"content\": \"You are rewriting given toxic tweets to be more neutral in style, while preserving the content.\"},\n",
        "      {\"role\": \"user\", \"content\": f\"Toxic: '{str(dataset['train'][0]['en_toxic_comment'])}'\"},\n",
        "      {\"role\": \"assistant\", \"content\": f\"Neutral: '{str(dataset['train'][0]['en_neutral_comment'])}'\"}\n",
        "      {\"role\": \"user\", \"content\": f\"Toxic: '{str(dataset['train'][1]['en_toxic_comment'])}'\"},\n",
        "      {\"role\": \"assistant\", \"content\": f\"Neutral: '{str(dataset['train'][1]['en_neutral_comment'])}'\"}\n",
        "      {\"role\": \"user\", \"content\": f\"Toxic: '{str(dataset['train'][2]['en_toxic_comment'])}'\"},\n",
        "      {\"role\": \"assistant\", \"content\": f\"Neutral: '{str(dataset['train'][2]['en_neutral_comment'])}'\"}\n",
        "      {\"role\": \"user\", \"content\": f\"Toxic: '{str(dataset['train'][3]['en_toxic_comment'])}'\"},\n",
        "      {\"role\": \"assistant\", \"content\": f\"Neutral: '{str(dataset['train'][3]['en_neutral_comment'])}'\"}\n",
        "      {\"role\": \"user\", \"content\": f\"Toxic: '{str(dataset['train'][4]['en_toxic_comment'])}'\"},\n",
        "      {\"role\": \"assistant\", \"content\": f\"Neutral: '{str(dataset['train'][4]['en_neutral_comment'])}'\"}\n",
        "      {\"role\": \"user\", \"content\": f\"Toxic: '{str(dataset['train'][5]['en_toxic_comment'])}'\"},\n",
        "      {\"role\": \"assistant\", \"content\": f\"Neutral: '{str(dataset['train'][5]['en_neutral_comment'])}'\"},\n",
        "      {\"role\": \"user\", \"content\": f\"Toxic: '{given_text}'\"}\n",
        "    ]\n",
        "  )\n",
        "  return completion.choices[0].message.content"
      ],
      "metadata": {
        "id": "OwgRbtpan29q"
      },
      "execution_count": null,
      "outputs": []
    },
    {
      "cell_type": "code",
      "source": [
        "fewShot(dataset, \"i'm gonna ban everyone talks shit about me, cuz i do whatever i want\")"
      ],
      "metadata": {
        "id": "dhwwC3blsa09",
        "colab": {
          "base_uri": "https://localhost:8080/",
          "height": 36
        },
        "outputId": "7d22e348-b496-44bd-abc9-acd51cd14e67"
      },
      "execution_count": null,
      "outputs": [
        {
          "output_type": "execute_result",
          "data": {
            "text/plain": [
              "\"\\nI'm going to protect myself from insulting comments and I will live my life on my own terms.\""
            ],
            "application/vnd.google.colaboratory.intrinsic+json": {
              "type": "string"
            }
          },
          "metadata": {},
          "execution_count": 9
        }
      ]
    },
    {
      "cell_type": "markdown",
      "source": [
        "Evaluation with BLEURT score"
      ],
      "metadata": {
        "id": "Gq9QoX82GE6u"
      }
    },
    {
      "cell_type": "code",
      "source": [
        "references =[]\n",
        "predictions =[]\n",
        "for i in range(5000,5100):\n",
        "  references.append(str(dataset['train'][i]['en_neutral_comment']))\n",
        "  predictions.append(fewShot(str(dataset['train'][i]['en_toxic_comment'])))\n",
        "refPred = pd.DataFrame(predictions, columns=[\"predictions\"])\n",
        "refPred['references'] = references\n",
        "refPred.to_csv('toBeEval.csv') # save for future evaluations"
      ],
      "metadata": {
        "id": "CpbHOvNlfhEe"
      },
      "execution_count": null,
      "outputs": []
    },
    {
      "cell_type": "code",
      "source": [
        "pip install git+https://github.com/google-research/bleurt.git"
      ],
      "metadata": {
        "id": "2Efja25QLzbs"
      },
      "execution_count": null,
      "outputs": []
    },
    {
      "cell_type": "code",
      "source": [
        "bleurt = evaluate.load(\"bleurt\", \"BLEURT-20\")"
      ],
      "metadata": {
        "colab": {
          "base_uri": "https://localhost:8080/",
          "height": 49,
          "referenced_widgets": [
            "08a165fc6649402ca288d0b3dfd1bcb8",
            "452fec2f51804ff59deb9cf4b6d4f81b",
            "fdc9fb9d89f14a97be457a4c21532994",
            "506cc4584a8a4a809e439884643dcac4",
            "77674dc621464b73b359dab1fa8a14b0",
            "f7ad91d696554eafa3f9084f8a447472",
            "3c37265391264d3e86be2a6ab36da433",
            "53567c1a269c420da77987b1dad58a74",
            "d6aec0dc73bb468ea9fc28aaeec64852",
            "726049c2c5a04ed782b5c5b03f7d0493",
            "099dd3ebd73b4aa2911db15ce1c6909f"
          ]
        },
        "id": "Rx16sgZpNDak",
        "outputId": "3887b5d4-85e9-437a-a23c-3cd7a26e0f7a"
      },
      "execution_count": null,
      "outputs": [
        {
          "output_type": "display_data",
          "data": {
            "text/plain": [
              "Computing checksums: 100%|##########| 1/1 [00:26<00:00, 26.90s/it]"
            ],
            "application/vnd.jupyter.widget-view+json": {
              "version_major": 2,
              "version_minor": 0,
              "model_id": "08a165fc6649402ca288d0b3dfd1bcb8"
            }
          },
          "metadata": {}
        }
      ]
    },
    {
      "cell_type": "code",
      "source": [
        "res = bleurt.compute(predictions=predictions,references =labels[:-1])"
      ],
      "metadata": {
        "id": "sPMt_N6kPOQI"
      },
      "execution_count": null,
      "outputs": []
    },
    {
      "cell_type": "code",
      "source": [
        "import seaborn as sns\n",
        "\n",
        "sns.displot(res)"
      ],
      "metadata": {
        "colab": {
          "base_uri": "https://localhost:8080/",
          "height": 523
        },
        "id": "0DQB0R1_P9zH",
        "outputId": "17dadb04-d27d-45ed-e8d8-3fc4fd58acce"
      },
      "execution_count": null,
      "outputs": [
        {
          "output_type": "execute_result",
          "data": {
            "text/plain": [
              "<seaborn.axisgrid.FacetGrid at 0x7fcea5469120>"
            ]
          },
          "metadata": {},
          "execution_count": 42
        },
        {
          "output_type": "display_data",
          "data": {
            "text/plain": [
              "<Figure size 594.375x500 with 1 Axes>"
            ],
            "image/png": "[encoded data removed]"
          },
          "metadata": {}
        }
      ]
    }
  ]
}